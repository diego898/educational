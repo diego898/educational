{
 "cells": [
  {
   "cell_type": "code",
   "execution_count": null,
   "metadata": {
    "collapsed": false,
    "slideshow": {
     "slide_type": "skip"
    }
   },
   "outputs": [],
   "source": [
    "import numpy as np\n",
    "import matplotlib.pyplot as plt\n",
    "%matplotlib inline\n",
    "from IPython.display import Audio\n",
    "\n",
    "# Include helper functions\n",
    "#import sys\n",
    "#sys.path.append(\"../helpers\")\n",
    "#from filters import highpass, lowpass"
   ]
  },
  {
   "cell_type": "markdown",
   "metadata": {
    "slideshow": {
     "slide_type": "slide"
    }
   },
   "source": [
    "# Introduction to Probability"
   ]
  },
  {
   "cell_type": "markdown",
   "metadata": {
    "slideshow": {
     "slide_type": "slide"
    }
   },
   "source": [
    "Let's begin by making a bet..."
   ]
  },
  {
   "cell_type": "markdown",
   "metadata": {
    "slideshow": {
     "slide_type": "fragment"
    }
   },
   "source": [
    "We will flip a coin multiple times and count the number of times heads ($H$) and tails ($T$) appear. "
   ]
  },
  {
   "cell_type": "markdown",
   "metadata": {
    "slideshow": {
     "slide_type": "fragment"
    }
   },
   "source": [
    "If after $10$ flips there are $5$ $H$ and $5$ $T$, I win. Otherwise I lose."
   ]
  },
  {
   "cell_type": "code",
   "execution_count": null,
   "metadata": {
    "collapsed": false,
    "slideshow": {
     "slide_type": "fragment"
    }
   },
   "outputs": [],
   "source": [
    "num_flips = 10    # The number of times to flip the coin\n",
    "prob_heads = 0.5  # The probability of getting heads (0.5=fair coin)\n",
    "num_heads = np.random.binomial(n=num_flips,p=prob_heads)\n",
    "print(num_heads,\" heads, \",num_flips - num_heads, \" tails.\")\n",
    "print('I win!' if num_heads == 5 else 'I lose...')"
   ]
  },
  {
   "cell_type": "markdown",
   "metadata": {
    "slideshow": {
     "slide_type": "slide"
    }
   },
   "source": [
    "If we play the bet repeatedly, I will be the loser... Why is that?"
   ]
  },
  {
   "cell_type": "markdown",
   "metadata": {
    "slideshow": {
     "slide_type": "fragment"
    }
   },
   "source": [
    "How many outcomes are there for flipping a coin $10$ times? The first flip could be $H$ or $T$, the second flip could be $H$ or $T$, and so on..."
   ]
  },
  {
   "cell_type": "markdown",
   "metadata": {
    "slideshow": {
     "slide_type": "fragment"
    }
   },
   "source": [
    "$$2\\cdot 2\\cdot 2\\cdot 2\\cdot 2\\cdot 2\\cdot 2\\cdot 2\\cdot 2\\cdot 2\\cdot  = 2^{10} = 1024$$  "
   ]
  },
  {
   "cell_type": "markdown",
   "metadata": {
    "slideshow": {
     "slide_type": "fragment"
    }
   },
   "source": [
    "Of those $1024$ ways, there are \"$10$ choose $5$\" = $252$ ways to have $5$ $H$ and $5$ $T$."
   ]
  },
  {
   "cell_type": "markdown",
   "metadata": {
    "slideshow": {
     "slide_type": "fragment"
    }
   },
   "source": [
    "$$P(H=5 \\ \\ and \\ \\ T=5) = \\frac{252}{1024} = 0.246$$"
   ]
  },
  {
   "cell_type": "markdown",
   "metadata": {
    "slideshow": {
     "slide_type": "slide"
    }
   },
   "source": [
    "Let's try another bet. We will flip the coin $\\bf{100}$ times. If there are $49$, $50$, or $51$ $H$, I win."
   ]
  },
  {
   "cell_type": "code",
   "execution_count": null,
   "metadata": {
    "collapsed": false,
    "slideshow": {
     "slide_type": "fragment"
    }
   },
   "outputs": [],
   "source": [
    "num_flips = 100    # The number of times to flip the coin\n",
    "prob_heads = 0.5  # The probability of getting heads (0.5=fair coin)\n",
    "num_heads = np.random.binomial(n=num_flips,p=prob_heads)\n",
    "print(num_heads,\" heads, \",num_flips - num_heads, \" tails.\")\n",
    "print('I win!' if 49 <= num_heads <= 51 else 'I lose...')"
   ]
  },
  {
   "cell_type": "markdown",
   "metadata": {
    "slideshow": {
     "slide_type": "fragment"
    }
   },
   "source": [
    "Now I'm getting desperate... Let's try one last bet. We will flip the coin $\\bf{1,000,000,000}$. If the number of heads is between $49\\%-51\\%$, I win. Keep in mind, this is basically the same bet as the last one!"
   ]
  },
  {
   "cell_type": "code",
   "execution_count": null,
   "metadata": {
    "collapsed": false,
    "slideshow": {
     "slide_type": "fragment"
    }
   },
   "outputs": [],
   "source": [
    "num_flips = 1000000000  # The number of times to flip the coin\n",
    "prob_heads = 0.5        # The probability of getting heads (0.5=fair coin)\n",
    "num_heads = np.random.binomial(n=num_flips,p=prob_heads)\n",
    "percent_heads = num_heads/num_flips*100\n",
    "print(percent_heads,\"% heads, \",100 - percent_heads, \"% tails.\")\n",
    "print('I win!' if 49 <= percent_heads <= 51 else 'I lose...')"
   ]
  },
  {
   "cell_type": "markdown",
   "metadata": {
    "slideshow": {
     "slide_type": "slide"
    }
   },
   "source": [
    "This is demonstrates what is known as *The Law of Large Numbers*. Basically, as more and more random events happen, the outcomes resemble the expected behavior more and more closely."
   ]
  },
  {
   "cell_type": "markdown",
   "metadata": {
    "slideshow": {
     "slide_type": "fragment"
    }
   },
   "source": [
    "If you ask anybody, they would say that the probability of flipping a heads is $1/2$, yet nobody is surprised if you flip a tails twice in a row!"
   ]
  },
  {
   "cell_type": "markdown",
   "metadata": {
    "slideshow": {
     "slide_type": "fragment"
    }
   },
   "source": [
    "But if you flipped $100$ heads in a row, that would be a different story. This is because of the law of large numbers."
   ]
  },
  {
   "cell_type": "markdown",
   "metadata": {
    "slideshow": {
     "slide_type": "slide"
    }
   },
   "source": [
    "Let's do an experiment where we flip a coin and keep track of the fraction of flips that come up heads to see how the random flips tend towards the expected behavior:"
   ]
  },
  {
   "cell_type": "code",
   "execution_count": null,
   "metadata": {
    "code_folding": [],
    "collapsed": false,
    "run_control": {
     "marked": false
    },
    "slideshow": {
     "slide_type": "fragment"
    }
   },
   "outputs": [],
   "source": [
    "num_flips = 10   # Try changing number of flips\n",
    "prob_heads = 0.5   # Try changing expected behavior\n",
    "plt.figure(figsize=(15,3))\n",
    "for trial in range(1):  # Try repeating the experiment\n",
    "    averages = np.zeros(num_flips); total = 0\n",
    "    for i in range(num_flips):\n",
    "        total += np.random.binomial(n=1,p=prob_heads)\n",
    "        averages[i] = total/(i+1)\n",
    "    plt.plot(averages)\n",
    "plt.ylim([0,1])\n",
    "plt.ylabel('Fraction of Heads'); plt.xlabel('Number of Flips');"
   ]
  },
  {
   "cell_type": "markdown",
   "metadata": {
    "slideshow": {
     "slide_type": "slide"
    }
   },
   "source": [
    "A *probability distribution* tells us the probability of each outcome of a random event or experiment."
   ]
  },
  {
   "cell_type": "markdown",
   "metadata": {
    "slideshow": {
     "slide_type": "fragment"
    }
   },
   "source": [
    "The coin flip is an example of a *uniform distribution* where every outcome (in this case $H$ and $T$) is equally likely. Another example of this is rolling a die."
   ]
  },
  {
   "cell_type": "code",
   "execution_count": null,
   "metadata": {
    "code_folding": [
     0
    ],
    "collapsed": false,
    "slideshow": {
     "slide_type": "fragment"
    }
   },
   "outputs": [],
   "source": [
    "def plot_distributions():\n",
    "    plt.figure(figsize=(15,3))\n",
    "    plt.subplot(1,2,1)\n",
    "    plt.stem([0,0.2],[0.5,0.5])\n",
    "    plt.xticks([0,0.2],['T','H'])\n",
    "    plt.xlim([-0.1,0.3])\n",
    "    plt.ylim([0,1])\n",
    "    plt.title('Coin Distribution')\n",
    "    plt.ylabel('Probability')\n",
    "    plt.xlabel('Outcomes')\n",
    "    plt.subplot(1,2,2)\n",
    "    plt.stem(range(1,7),[1/6]*6)\n",
    "    plt.xlim([0.9,6.1])\n",
    "    plt.ylim([0,1])\n",
    "    plt.title('Dice Distribution')\n",
    "    plt.xlabel('Outcomes');\n",
    "plot_distributions();"
   ]
  },
  {
   "cell_type": "markdown",
   "metadata": {
    "slideshow": {
     "slide_type": "slide"
    }
   },
   "source": [
    "Another very common distribution is the *normal distribution*, shaped like a bell curve."
   ]
  },
  {
   "cell_type": "markdown",
   "metadata": {
    "slideshow": {
     "slide_type": "fragment"
    }
   },
   "source": [
    "Normal distributions appear naturally in many different scenarios. A classic example is test scores. In this case, we can think of each student's test result as the outcome of a random experiment."
   ]
  },
  {
   "cell_type": "markdown",
   "metadata": {
    "slideshow": {
     "slide_type": "slide"
    }
   },
   "source": [
    "In engineering, one *very* common appearance of the normal distibution is **random noise**. Below we'll generate random noise."
   ]
  },
  {
   "cell_type": "code",
   "execution_count": null,
   "metadata": {
    "collapsed": false,
    "slideshow": {
     "slide_type": "fragment"
    }
   },
   "outputs": [],
   "source": [
    "noise = np.random.randn(1000)\n",
    "plt.figure(figsize=(15,4));plt.plot(noise);\n",
    "plt.xlabel('Sample Number'); plt.ylim([-4,4]);"
   ]
  },
  {
   "cell_type": "code",
   "execution_count": null,
   "metadata": {
    "collapsed": false,
    "slideshow": {
     "slide_type": "fragment"
    }
   },
   "outputs": [],
   "source": [
    "noise = np.random.randn(44100*5); Audio(noise,rate=44100)"
   ]
  },
  {
   "cell_type": "markdown",
   "metadata": {
    "slideshow": {
     "slide_type": "slide"
    }
   },
   "source": [
    "A *histogram* shows the number of occurrences of each outcome. Let's use a histogram to estimate the distribution of the random noise samples."
   ]
  },
  {
   "cell_type": "code",
   "execution_count": null,
   "metadata": {
    "code_folding": [],
    "collapsed": false,
    "slideshow": {
     "slide_type": "fragment"
    }
   },
   "outputs": [],
   "source": [
    "plt.figure(figsize=(15,4))\n",
    "for (num_samples,num_bins) in [(100,10),(1000,20),(10000,50)]:\n",
    "    plt.subplot(1,3,int(np.log10(num_samples)-1))\n",
    "    noise = np.random.randn(num_samples)\n",
    "    plt.hist(noise,bins=num_bins); \n",
    "    plt.xlim([-4,4]);\n",
    "    plt.xlabel('Outcomes'); \n",
    "    title = 'Histogram with '+str(num_samples)+' samples'\n",
    "    plt.title(title)\n",
    "    plt.ylabel('Number of Occurrences');"
   ]
  },
  {
   "cell_type": "markdown",
   "metadata": {
    "slideshow": {
     "slide_type": "slide"
    }
   },
   "source": [
    "Let's look at how the histogram and noise signal over time are related:"
   ]
  },
  {
   "cell_type": "code",
   "execution_count": null,
   "metadata": {
    "code_folding": [
     2
    ],
    "collapsed": false,
    "run_control": {
     "marked": false
    },
    "scrolled": true,
    "slideshow": {
     "slide_type": "fragment"
    }
   },
   "outputs": [],
   "source": [
    "plt.figure(figsize=(15,9))\n",
    "noise = np.random.randn(10000)\n",
    "for (low,high) in [(0,1),(1,2),(2,3)]:\n",
    "    plt.subplot(3,3,(high-1)*3+1)\n",
    "    plt.plot(noise[0:1000])\n",
    "    plt.plot([0,1000],[high,high],'r--',linewidth=2)\n",
    "    plt.plot([0,1000],[low,low],'r--',linewidth=2)\n",
    "    plt.ylim([-4,4])\n",
    "    plt.ylabel('Amplitude')\n",
    "    if(high==3):\n",
    "        plt.xlabel('Sample Number');\n",
    "    \n",
    "    plt.subplot(3,3,(high-1)*3+2)\n",
    "    plt.plot(noise[0:1000],'o')\n",
    "    plt.ylim([low,high])\n",
    "    if(high==3):\n",
    "        plt.xlabel('Sample Number');\n",
    "    \n",
    "    plt.subplot(3,3,(high-1)*3+3)\n",
    "    plt.hist(noise,bins=50);\n",
    "    plt.plot([low,low],[0,700],'r--',linewidth=2)\n",
    "    plt.plot([high,high],[0,700],'r--',linewidth=2)\n",
    "    plt.xlim([-4,4])\n",
    "    plt.ylim([0,700])\n",
    "    if(high==3):\n",
    "        plt.xlabel('Outcomes'); \n",
    "    plt.ylabel('Number of Occurrences');"
   ]
  }
 ],
 "metadata": {
  "celltoolbar": "Slideshow",
  "kernelspec": {
   "display_name": "IPython (Python 3)",
   "language": "python",
   "name": "python3"
  },
  "language_info": {
   "codemirror_mode": {
    "name": "ipython",
    "version": 3
   },
   "file_extension": ".py",
   "mimetype": "text/x-python",
   "name": "python",
   "nbconvert_exporter": "python",
   "pygments_lexer": "ipython3",
   "version": "3.4.3"
  },
  "latex_envs": {
   "bibliofile": "biblio.bib",
   "cite_by": "apalike",
   "current_citInitial": 1,
   "eqLabelWithNumbers": true,
   "eqNumInitial": 0
  }
 },
 "nbformat": 4,
 "nbformat_minor": 0
}
